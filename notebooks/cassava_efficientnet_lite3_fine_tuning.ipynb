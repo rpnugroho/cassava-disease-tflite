{
  "nbformat": 4,
  "nbformat_minor": 0,
  "metadata": {
    "colab": {
      "name": "Cassava efficientnet_lite3 Fine Tuning.ipynb",
      "provenance": [],
      "collapsed_sections": []
    },
    "kernelspec": {
      "name": "python3",
      "display_name": "Python 3"
    },
    "accelerator": "GPU"
  },
  "cells": [
    {
      "cell_type": "code",
      "metadata": {
        "colab": {
          "base_uri": "https://localhost:8080/"
        },
        "id": "HIY8VIZlczDL",
        "outputId": "7b9f2235-43c9-4392-cf7e-d4fcc17bf1f5"
      },
      "source": [
        "!nvidia-smi -L"
      ],
      "execution_count": null,
      "outputs": [
        {
          "output_type": "stream",
          "text": [
            "GPU 0: Tesla T4 (UUID: GPU-7814005a-6586-b9f3-f37b-e8d0249a4e0a)\n"
          ],
          "name": "stdout"
        }
      ]
    },
    {
      "cell_type": "markdown",
      "metadata": {
        "id": "KmhqNcHLdsgc"
      },
      "source": [
        "## Download Dataset"
      ]
    },
    {
      "cell_type": "code",
      "metadata": {
        "id": "Y__G1hMdc655"
      },
      "source": [
        "# Removed\n",
        "# Download in https://www.kaggle.com/c/cassava-leaf-disease-classification"
      ],
      "execution_count": null,
      "outputs": []
    },
    {
      "cell_type": "code",
      "metadata": {
        "id": "_BP-kNFadaSE"
      },
      "source": [
        "# Create folder for each class\n",
        "!mkdir '/content/data/train_images/Bacterial Blight'\n",
        "!mkdir '/content/data/train_images/Brown Streak Disease'\n",
        "!mkdir '/content/data/train_images/Green Mottle'\n",
        "!mkdir '/content/data/train_images/Mosaic Disease'\n",
        "!mkdir '/content/data/train_images/Healthy'\n",
        "# Create FOlder for checkpoint\n",
        "!mkdir '/content/checkpoint'"
      ],
      "execution_count": null,
      "outputs": []
    },
    {
      "cell_type": "code",
      "metadata": {
        "id": "pW9eqn-QdkCO"
      },
      "source": [
        "# Move each image to folder class\n",
        "import pandas as pd\n",
        "import shutil\n",
        "\n",
        "IMG_DIR = '/content/data/train_images/'\n",
        "\n",
        "df = pd.read_csv('/content/data/train.csv')\n",
        "df['path'] = IMG_DIR + df['image_id']\n",
        "df.replace({'label':{0: \"Bacterial Blight\",\n",
        "                     1: \"Brown Streak Disease\",\n",
        "                     2: \"Green Mottle\",\n",
        "                     3: \"Mosaic Disease\",\n",
        "                     4: \"Healthy\"}}, inplace=True)\n",
        "\n",
        "for idx, row in df.iterrows():\n",
        "    try:\n",
        "        shutil.move(row['path'], IMG_DIR+row['label'])\n",
        "    except:\n",
        "        pass"
      ],
      "execution_count": null,
      "outputs": []
    },
    {
      "cell_type": "markdown",
      "metadata": {
        "id": "BXVpcqgme0yt"
      },
      "source": [
        "## Code"
      ]
    },
    {
      "cell_type": "code",
      "metadata": {
        "id": "piT4gCcse0Qk"
      },
      "source": [
        "!pip install tflite-model-maker -q"
      ],
      "execution_count": null,
      "outputs": []
    },
    {
      "cell_type": "code",
      "metadata": {
        "id": "O-ifErl7e4jx"
      },
      "source": [
        "import os\n",
        "import numpy as np\n",
        "import pandas as pd\n",
        "import tensorflow as tf\n",
        "import tflite_model_maker as tfl\n",
        "import matplotlib\n",
        "import matplotlib.pyplot as plt\n",
        "\n",
        "import warnings\n",
        "warnings.filterwarnings('ignore')\n",
        "\n",
        "def set_seed(SEED):\n",
        "    os.environ['PYTHONHASHSEED'] = str(SEED)\n",
        "    np.random.seed(SEED)\n",
        "    tf.random.set_seed(SEED)\n",
        "\n",
        "set_seed(2021)\n",
        "\n",
        "IMG_DIR = '/content/data/train_images/'\n",
        "CKPT_DIR = '/content/checkpoint'"
      ],
      "execution_count": null,
      "outputs": []
    },
    {
      "cell_type": "code",
      "metadata": {
        "id": "wS5TLvfse94D",
        "cellView": "form"
      },
      "source": [
        "#@title\n",
        "# A helper function that returns 'red'/'black' depending on if its two input\n",
        "# parameter matches or not.\n",
        "def get_label_color(val1, val2):\n",
        "  if val1 == val2:\n",
        "    return 'black'\n",
        "  else:\n",
        "    return 'red'\n",
        "\n",
        "# Then plot 100 test images and their predicted labels.\n",
        "# If a prediction result is different from the label provided label in \"test\"\n",
        "# dataset, we will highlight it in red color.\n",
        "def plot_eval(model, test_data):\n",
        "    plt.figure(figsize=(20, 20))\n",
        "    predicts = model.predict_top_k(test_data)\n",
        "    for i, (image, label) in enumerate(test_data.gen_dataset().unbatch().take(25)):\n",
        "        ax = plt.subplot(5, 5, i+1)\n",
        "        plt.xticks([])\n",
        "        plt.yticks([])\n",
        "        plt.grid(False)\n",
        "        plt.imshow(image.numpy(), cmap=plt.cm.gray)\n",
        "\n",
        "        predict_label = predicts[i][0][0]\n",
        "        true_label = test_data.index_to_label[label.numpy()]\n",
        "        color = get_label_color(predict_label,\n",
        "                                test_data.index_to_label[label.numpy()])\n",
        "        ax.xaxis.label.set_color(color)\n",
        "        plt.title('True: %s' % true_label)\n",
        "        plt.xlabel('Pred: %s' % predict_label)\n",
        "    plt.show()"
      ],
      "execution_count": null,
      "outputs": []
    },
    {
      "cell_type": "markdown",
      "metadata": {
        "id": "7G_PGhOhfEuV"
      },
      "source": [
        "## Create Dataset"
      ]
    },
    {
      "cell_type": "code",
      "metadata": {
        "colab": {
          "base_uri": "https://localhost:8080/"
        },
        "id": "mfqdulLEfAxh",
        "outputId": "8389d46a-8643-4c4d-fd74-665fe373893b"
      },
      "source": [
        "data = tfl.ImageClassifierDataLoader.from_folder(IMG_DIR)\n",
        "train_data, rest_data = data.split(0.8)\n",
        "validation_data, test_data = rest_data.split(0.5)"
      ],
      "execution_count": null,
      "outputs": [
        {
          "output_type": "stream",
          "text": [
            "INFO:tensorflow:Load image with size: 21397, num_label: 5, labels: Bacterial Blight, Brown Streak Disease, Green Mottle, Healthy, Mosaic Disease.\n"
          ],
          "name": "stdout"
        }
      ]
    },
    {
      "cell_type": "markdown",
      "metadata": {
        "id": "yPMK5ssLfI5F"
      },
      "source": [
        "## Finet Tuning efficientnet_lite3"
      ]
    },
    {
      "cell_type": "code",
      "metadata": {
        "colab": {
          "base_uri": "https://localhost:8080/"
        },
        "id": "yK7gUdFn2dm0",
        "outputId": "526b9d62-5a4d-4fd0-c6d9-9277811de020"
      },
      "source": [
        "tf.keras.backend.clear_session()\n",
        "fine_mdl0 = tfl.image_classifier.create(train_data=train_data,\n",
        "                                       model_spec='efficientnet_lite3',\n",
        "                                       validation_data=validation_data,\n",
        "                                       epochs=15,\n",
        "                                       learning_rate=5e-4,\n",
        "                                       warmup_steps=2*534,\n",
        "                                       train_whole_model=True,\n",
        "                                       model_dir=CKPT_DIR,\n",
        "                                       shuffle=True)\n",
        "\n",
        "_loss, _accuracy = fine_mdl0.evaluate(test_data)"
      ],
      "execution_count": null,
      "outputs": [
        {
          "output_type": "stream",
          "text": [
            "INFO:tensorflow:Retraining the models...\n"
          ],
          "name": "stdout"
        },
        {
          "output_type": "stream",
          "text": [
            "INFO:tensorflow:Retraining the models...\n"
          ],
          "name": "stderr"
        },
        {
          "output_type": "stream",
          "text": [
            "Model: \"sequential\"\n",
            "_________________________________________________________________\n",
            "Layer (type)                 Output Shape              Param #   \n",
            "=================================================================\n",
            "hub_keras_layer_v1v2 (HubKer (None, 1280)              6992768   \n",
            "_________________________________________________________________\n",
            "dropout (Dropout)            (None, 1280)              0         \n",
            "_________________________________________________________________\n",
            "dense (Dense)                (None, 5)                 6405      \n",
            "=================================================================\n",
            "Total params: 6,999,173\n",
            "Trainable params: 6,999,173\n",
            "Non-trainable params: 0\n",
            "_________________________________________________________________\n",
            "None\n",
            "Epoch 1/15\n"
          ],
          "name": "stdout"
        },
        {
          "output_type": "stream",
          "text": [
            "WARNING:tensorflow:Gradients do not exist for variables \n"
          ],
          "name": "stderr"
        },
        {
          "output_type": "stream",
          "text": [
            "WARNING:tensorflow:Gradients do not exist for variables \n"
          ],
          "name": "stdout"
        },
        {
          "output_type": "stream",
          "text": [
            "WARNING:tensorflow:Gradients do not exist for variables \n"
          ],
          "name": "stderr"
        },
        {
          "output_type": "stream",
          "text": [
            "534/534 [==============================] - 418s 772ms/step - loss: 1.0283 - accuracy: 0.6866 - val_loss: 0.7884 - val_accuracy: 0.7988\n",
            "Epoch 2/15\n",
            "534/534 [==============================] - 410s 768ms/step - loss: 0.7891 - accuracy: 0.8082 - val_loss: 0.7552 - val_accuracy: 0.8149\n",
            "Epoch 3/15\n",
            "534/534 [==============================] - 410s 769ms/step - loss: 0.7359 - accuracy: 0.8357 - val_loss: 0.7251 - val_accuracy: 0.8395\n",
            "Epoch 4/15\n",
            "534/534 [==============================] - 408s 764ms/step - loss: 0.7085 - accuracy: 0.8521 - val_loss: 0.7431 - val_accuracy: 0.8314\n",
            "Epoch 5/15\n",
            "534/534 [==============================] - 413s 774ms/step - loss: 0.6868 - accuracy: 0.8616 - val_loss: 0.7342 - val_accuracy: 0.8366\n",
            "Epoch 6/15\n",
            "534/534 [==============================] - 411s 771ms/step - loss: 0.6683 - accuracy: 0.8698 - val_loss: 0.7190 - val_accuracy: 0.8461\n",
            "Epoch 7/15\n",
            "534/534 [==============================] - 412s 772ms/step - loss: 0.6427 - accuracy: 0.8816 - val_loss: 0.7073 - val_accuracy: 0.8509\n",
            "Epoch 8/15\n",
            "534/534 [==============================] - 417s 782ms/step - loss: 0.6255 - accuracy: 0.8921 - val_loss: 0.7188 - val_accuracy: 0.8471\n",
            "Epoch 9/15\n",
            "534/534 [==============================] - 421s 788ms/step - loss: 0.6100 - accuracy: 0.8987 - val_loss: 0.7360 - val_accuracy: 0.8419\n",
            "Epoch 10/15\n",
            "534/534 [==============================] - 423s 792ms/step - loss: 0.5925 - accuracy: 0.9066 - val_loss: 0.7262 - val_accuracy: 0.8494\n",
            "Epoch 11/15\n",
            "534/534 [==============================] - 423s 793ms/step - loss: 0.5726 - accuracy: 0.9184 - val_loss: 0.7263 - val_accuracy: 0.8480\n",
            "Epoch 12/15\n",
            "534/534 [==============================] - 422s 790ms/step - loss: 0.5589 - accuracy: 0.9226 - val_loss: 0.7226 - val_accuracy: 0.8466\n",
            "Epoch 13/15\n",
            "534/534 [==============================] - 427s 800ms/step - loss: 0.5444 - accuracy: 0.9342 - val_loss: 0.7343 - val_accuracy: 0.8452\n",
            "Epoch 14/15\n",
            "534/534 [==============================] - 422s 791ms/step - loss: 0.5282 - accuracy: 0.9428 - val_loss: 0.7442 - val_accuracy: 0.8485\n",
            "Epoch 15/15\n",
            "534/534 [==============================] - 423s 792ms/step - loss: 0.5093 - accuracy: 0.9512 - val_loss: 0.7567 - val_accuracy: 0.8466\n",
            "67/67 [==============================] - 73s 465ms/step - loss: 0.7378 - accuracy: 0.8519\n"
          ],
          "name": "stdout"
        }
      ]
    },
    {
      "cell_type": "code",
      "metadata": {
        "colab": {
          "base_uri": "https://localhost:8080/"
        },
        "id": "Tjfod6YaeDpj",
        "outputId": "97e87dcb-895d-47a1-d267-0253a5615be8"
      },
      "source": [
        "tf.keras.backend.clear_session()\n",
        "fine_mdl1 = tfl.image_classifier.create(train_data=train_data,\n",
        "                                       model_spec='efficientnet_lite3',\n",
        "                                       validation_data=validation_data,\n",
        "                                       epochs=15,\n",
        "                                       learning_rate=5e-4,\n",
        "                                       warmup_steps=2*534,\n",
        "                                       train_whole_model=True,\n",
        "                                       dropout_rate=0,\n",
        "                                       use_augmentation=True,\n",
        "                                       model_dir=CKPT_DIR,\n",
        "                                       shuffle=True)\n",
        "\n",
        "_loss, _accuracy = fine_mdl1.evaluate(test_data)"
      ],
      "execution_count": null,
      "outputs": [
        {
          "output_type": "stream",
          "text": [
            "INFO:tensorflow:Retraining the models...\n"
          ],
          "name": "stdout"
        },
        {
          "output_type": "stream",
          "text": [
            "INFO:tensorflow:Retraining the models...\n"
          ],
          "name": "stderr"
        },
        {
          "output_type": "stream",
          "text": [
            "Model: \"sequential\"\n",
            "_________________________________________________________________\n",
            "Layer (type)                 Output Shape              Param #   \n",
            "=================================================================\n",
            "hub_keras_layer_v1v2 (HubKer (None, 1280)              6992768   \n",
            "_________________________________________________________________\n",
            "dropout (Dropout)            (None, 1280)              0         \n",
            "_________________________________________________________________\n",
            "dense (Dense)                (None, 5)                 6405      \n",
            "=================================================================\n",
            "Total params: 6,999,173\n",
            "Trainable params: 6,999,173\n",
            "Non-trainable params: 0\n",
            "_________________________________________________________________\n",
            "None\n",
            "INFO:tensorflow:Use default resize_bicubic.\n"
          ],
          "name": "stdout"
        },
        {
          "output_type": "stream",
          "text": [
            "INFO:tensorflow:Use default resize_bicubic.\n"
          ],
          "name": "stderr"
        },
        {
          "output_type": "stream",
          "text": [
            "INFO:tensorflow:Use customized resize method bilinear\n"
          ],
          "name": "stdout"
        },
        {
          "output_type": "stream",
          "text": [
            "INFO:tensorflow:Use customized resize method bilinear\n"
          ],
          "name": "stderr"
        },
        {
          "output_type": "stream",
          "text": [
            "INFO:tensorflow:Use customized resize method bilinear\n"
          ],
          "name": "stdout"
        },
        {
          "output_type": "stream",
          "text": [
            "INFO:tensorflow:Use customized resize method bilinear\n"
          ],
          "name": "stderr"
        },
        {
          "output_type": "stream",
          "text": [
            "Epoch 1/15\n",
            "WARNING:tensorflow:Gradients do not exist for variables \n"          ],
          "name": "stdout"
        },
        {
          "output_type": "stream",
          "text": [
            "WARNING:tensorflow:Gradients do not exist for variables \n"
          ],
          "name": "stderr"
        },
        {
          "output_type": "stream",
          "text": [
            "WARNING:tensorflow:Gradients do not exist for variables \n"
          ],
          "name": "stdout"
        },
        {
          "output_type": "stream",
          "text": [
            "WARNING:tensorflow:Gradients do not exist for variables \n"
          ],
          "name": "stderr"
        },
        {
          "output_type": "stream",
          "text": [
            "534/534 [==============================] - 385s 713ms/step - loss: 1.0358 - accuracy: 0.6764 - val_loss: 0.8185 - val_accuracy: 0.7884\n",
            "Epoch 2/15\n",
            "534/534 [==============================] - 384s 720ms/step - loss: 0.8141 - accuracy: 0.7926 - val_loss: 0.7581 - val_accuracy: 0.8224\n",
            "Epoch 3/15\n",
            "534/534 [==============================] - 385s 721ms/step - loss: 0.7643 - accuracy: 0.8190 - val_loss: 0.7225 - val_accuracy: 0.8310\n",
            "Epoch 4/15\n",
            "534/534 [==============================] - 382s 715ms/step - loss: 0.7428 - accuracy: 0.8291 - val_loss: 0.7106 - val_accuracy: 0.8509\n",
            "Epoch 5/15\n",
            "534/534 [==============================] - 384s 719ms/step - loss: 0.7349 - accuracy: 0.8370 - val_loss: 0.7269 - val_accuracy: 0.8447\n",
            "Epoch 6/15\n",
            "534/534 [==============================] - 387s 725ms/step - loss: 0.7230 - accuracy: 0.8433 - val_loss: 0.7122 - val_accuracy: 0.8409\n",
            "Epoch 7/15\n",
            "534/534 [==============================] - 390s 731ms/step - loss: 0.7123 - accuracy: 0.8470 - val_loss: 0.7112 - val_accuracy: 0.8518\n",
            "Epoch 8/15\n",
            "534/534 [==============================] - 386s 723ms/step - loss: 0.7014 - accuracy: 0.8514 - val_loss: 0.7040 - val_accuracy: 0.8490\n",
            "Epoch 9/15\n",
            "534/534 [==============================] - 388s 727ms/step - loss: 0.7028 - accuracy: 0.8510 - val_loss: 0.6837 - val_accuracy: 0.8575\n",
            "Epoch 10/15\n",
            "534/534 [==============================] - 388s 726ms/step - loss: 0.6928 - accuracy: 0.8534 - val_loss: 0.6832 - val_accuracy: 0.8608\n",
            "Epoch 11/15\n",
            "534/534 [==============================] - 390s 730ms/step - loss: 0.6901 - accuracy: 0.8549 - val_loss: 0.6691 - val_accuracy: 0.8655\n",
            "Epoch 12/15\n",
            "534/534 [==============================] - 388s 726ms/step - loss: 0.6857 - accuracy: 0.8582 - val_loss: 0.6805 - val_accuracy: 0.8603\n",
            "Epoch 13/15\n",
            "534/534 [==============================] - 388s 726ms/step - loss: 0.6817 - accuracy: 0.8597 - val_loss: 0.6655 - val_accuracy: 0.8646\n",
            "Epoch 14/15\n",
            "534/534 [==============================] - 387s 725ms/step - loss: 0.6717 - accuracy: 0.8673 - val_loss: 0.6777 - val_accuracy: 0.8632\n",
            "Epoch 15/15\n",
            "534/534 [==============================] - 390s 730ms/step - loss: 0.6724 - accuracy: 0.8660 - val_loss: 0.6615 - val_accuracy: 0.8665\n",
            "INFO:tensorflow:Use customized resize method bilinear\n"
          ],
          "name": "stdout"
        },
        {
          "output_type": "stream",
          "text": [
            "INFO:tensorflow:Use customized resize method bilinear\n"
          ],
          "name": "stderr"
        },
        {
          "output_type": "stream",
          "text": [
            "67/67 [==============================] - 48s 165ms/step - loss: 0.6384 - accuracy: 0.8813\n"
          ],
          "name": "stdout"
        }
      ]
    },
    {
      "cell_type": "code",
      "metadata": {
        "colab": {
          "base_uri": "https://localhost:8080/"
        },
        "id": "aszxbgqlP0La",
        "outputId": "a1c95060-47f7-48de-adc7-d15dcd0edce9"
      },
      "source": [
        "EXPORT_DIR = '/content/drive/MyDrive/Cassava/TFLite_0.8813/'\n",
        "fine_mdl1.export(export_dir=EXPORT_DIR, export_format=tfl.ExportFormat.TFLITE)\n",
        "fine_mdl1.export(export_dir=EXPORT_DIR, export_format=tfl.ExportFormat.LABEL)\n",
        "fine_mdl1.export(export_dir=EXPORT_DIR, export_format=tfl.ExportFormat.SAVED_MODEL)"
      ],
      "execution_count": null,
      "outputs": [
        {
          "output_type": "stream",
          "text": [
            "INFO:tensorflow:Assets written to: /tmp/tmp_saq22kq/assets\n"
          ],
          "name": "stdout"
        },
        {
          "output_type": "stream",
          "text": [
            "INFO:tensorflow:Assets written to: /tmp/tmp_saq22kq/assets\n"
          ],
          "name": "stderr"
        },
        {
          "output_type": "stream",
          "text": [
            "INFO:tensorflow:Label file is inside the TFLite model with metadata.\n"
          ],
          "name": "stdout"
        },
        {
          "output_type": "stream",
          "text": [
            "INFO:tensorflow:Label file is inside the TFLite model with metadata.\n"
          ],
          "name": "stderr"
        },
        {
          "output_type": "stream",
          "text": [
            "INFO:tensorflow:Saving labels in /tmp/tmp6_kx6ert/labels.txt.\n"
          ],
          "name": "stdout"
        },
        {
          "output_type": "stream",
          "text": [
            "INFO:tensorflow:Saving labels in /tmp/tmp6_kx6ert/labels.txt.\n"
          ],
          "name": "stderr"
        },
        {
          "output_type": "stream",
          "text": [
            "INFO:tensorflow:Saving labels in /content/drive/MyDrive/Cassava/TFLite_0.8813/labels.txt.\n"
          ],
          "name": "stdout"
        },
        {
          "output_type": "stream",
          "text": [
            "INFO:tensorflow:Saving labels in /content/drive/MyDrive/Cassava/TFLite_0.8813/labels.txt.\n"
          ],
          "name": "stderr"
        },
        {
          "output_type": "stream",
          "text": [
            "INFO:tensorflow:Assets written to: /content/drive/MyDrive/Cassava/TFLite_0.8813/saved_model/assets\n"
          ],
          "name": "stdout"
        },
        {
          "output_type": "stream",
          "text": [
            "INFO:tensorflow:Assets written to: /content/drive/MyDrive/Cassava/TFLite_0.8813/saved_model/assets\n"
          ],
          "name": "stderr"
        }
      ]
    },
    {
      "cell_type": "markdown",
      "metadata": {
        "id": "KhBioLaM7D7u"
      },
      "source": [
        "# **We got 88% accuracy in test data**"
      ]
    },
    {
      "cell_type": "code",
      "metadata": {
        "id": "O-BXmyzN7IFE"
      },
      "source": [
        ""
      ],
      "execution_count": null,
      "outputs": []
    }
  ]
}
